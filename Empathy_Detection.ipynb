{
 "cells": [
  {
   "cell_type": "markdown",
   "metadata": {
    "id": "wIImn67wQST6"
   },
   "source": [
    "Building on the exploration and analysis done in assignment 1."
   ]
  },
  {
   "cell_type": "code",
   "execution_count": 3,
   "metadata": {
    "colab": {
     "base_uri": "https://localhost:8080/"
    },
    "id": "OaC7fqgKGBlF",
    "outputId": "705524c8-c072-4234-f679-2bac9f9f59df"
   },
   "outputs": [
    {
     "name": "stdout",
     "output_type": "stream",
     "text": [
      "Mounted at /content/drive\n"
     ]
    }
   ],
   "source": [
    "from google.colab import drive\n",
    "drive.mount('/content/drive', force_remount= True)\n",
    "import pandas as pd\n",
    "import seaborn as sns\n",
    "import numpy as np\n",
    "import matplotlib.pyplot as plt\n",
    "%matplotlib inline \n",
    "from sklearn.model_selection import train_test_split\n",
    "from sklearn.neighbors import KNeighborsRegressor\n",
    "from sklearn.metrics import mean_absolute_error, mean_squared_error,explained_variance_score"
   ]
  },
  {
   "cell_type": "code",
   "execution_count": 4,
   "metadata": {
    "colab": {
     "base_uri": "https://localhost:8080/"
    },
    "id": "jgwIGro9i7ng",
    "outputId": "f9d197b7-c383-4fcf-8a4b-fbf8d32805fb"
   },
   "outputs": [
    {
     "name": "stderr",
     "output_type": "stream",
     "text": [
      "<ipython-input-4-04c2544e397b>:2: DtypeWarning: Columns (0,1,2,12,16,17,19,20,21,22,23,24,25,26,27,34,35,56,57,58,59,60,61,63,64,65,66,67,68,69,70) have mixed types. Specify dtype option on import or set low_memory=False.\n",
      "  df = pd.read_csv('/content/drive/MyDrive/Eye empathy/test_merged.csv')\n"
     ]
    }
   ],
   "source": [
    "# Load the data - already merged data from the test group as they were  to have been empathetic \n",
    "df = pd.read_csv('/content/drive/MyDrive/Eye empathy/test_merged.csv')\n",
    "quest_df = pd.read_csv('/content/drive/MyDrive/Eye empathy/Questionnaire_datasetIA.csv', encoding='latin-1')"
   ]
  },
  {
   "cell_type": "code",
   "execution_count": 5,
   "metadata": {
    "colab": {
     "base_uri": "https://localhost:8080/",
     "height": 438
    },
    "id": "SKnTHfEKPviS",
    "outputId": "a9c98324-bfea-40c5-eb84-968bac067ed0"
   },
   "outputs": [
    {
     "data": {
      "text/html": [
       "\n",
       "  <div id=\"df-aa3153ac-f6af-4baa-9a1e-d47f848cb48e\">\n",
       "    <div class=\"colab-df-container\">\n",
       "      <div>\n",
       "<style scoped>\n",
       "    .dataframe tbody tr th:only-of-type {\n",
       "        vertical-align: middle;\n",
       "    }\n",
       "\n",
       "    .dataframe tbody tr th {\n",
       "        vertical-align: top;\n",
       "    }\n",
       "\n",
       "    .dataframe thead th {\n",
       "        text-align: right;\n",
       "    }\n",
       "</style>\n",
       "<table border=\"1\" class=\"dataframe\">\n",
       "  <thead>\n",
       "    <tr style=\"text-align: right;\">\n",
       "      <th></th>\n",
       "      <th>Unnamed: 0</th>\n",
       "      <th>Recording timestamp</th>\n",
       "      <th>Computer timestamp</th>\n",
       "      <th>Sensor</th>\n",
       "      <th>Project name</th>\n",
       "      <th>Export date</th>\n",
       "      <th>Participant name</th>\n",
       "      <th>Recording name</th>\n",
       "      <th>Recording date</th>\n",
       "      <th>Recording date UTC</th>\n",
       "      <th>...</th>\n",
       "      <th>Original Media height</th>\n",
       "      <th>Eye movement type</th>\n",
       "      <th>Gaze event duration</th>\n",
       "      <th>Eye movement type index</th>\n",
       "      <th>Fixation point X</th>\n",
       "      <th>Fixation point Y</th>\n",
       "      <th>Fixation point X (MCSnorm)</th>\n",
       "      <th>Fixation point Y (MCSnorm)</th>\n",
       "      <th>Mouse position X</th>\n",
       "      <th>Mouse position Y</th>\n",
       "    </tr>\n",
       "  </thead>\n",
       "  <tbody>\n",
       "    <tr>\n",
       "      <th>0</th>\n",
       "      <td>3082.0</td>\n",
       "      <td>23419315</td>\n",
       "      <td>512092386</td>\n",
       "      <td>NaN</td>\n",
       "      <td>Test group experiment</td>\n",
       "      <td>29.10.2020</td>\n",
       "      <td>Participant0001</td>\n",
       "      <td>Recording1</td>\n",
       "      <td>24.09.2020</td>\n",
       "      <td>24.09.2020</td>\n",
       "      <td>...</td>\n",
       "      <td>NaN</td>\n",
       "      <td>Fixation</td>\n",
       "      <td>117.0</td>\n",
       "      <td>64.0</td>\n",
       "      <td>971.0</td>\n",
       "      <td>341.0</td>\n",
       "      <td>0,5073</td>\n",
       "      <td>0,3160</td>\n",
       "      <td>NaN</td>\n",
       "      <td>NaN</td>\n",
       "    </tr>\n",
       "    <tr>\n",
       "      <th>1</th>\n",
       "      <td>3083.0</td>\n",
       "      <td>23419315</td>\n",
       "      <td>512092386</td>\n",
       "      <td>NaN</td>\n",
       "      <td>Test group experiment</td>\n",
       "      <td>29.10.2020</td>\n",
       "      <td>Participant0001</td>\n",
       "      <td>Recording1</td>\n",
       "      <td>24.09.2020</td>\n",
       "      <td>24.09.2020</td>\n",
       "      <td>...</td>\n",
       "      <td>NaN</td>\n",
       "      <td>Fixation</td>\n",
       "      <td>117.0</td>\n",
       "      <td>64.0</td>\n",
       "      <td>971.0</td>\n",
       "      <td>341.0</td>\n",
       "      <td>0,5073</td>\n",
       "      <td>0,3160</td>\n",
       "      <td>NaN</td>\n",
       "      <td>NaN</td>\n",
       "    </tr>\n",
       "    <tr>\n",
       "      <th>2</th>\n",
       "      <td>3084.0</td>\n",
       "      <td>23426120</td>\n",
       "      <td>512099191</td>\n",
       "      <td>Eye Tracker</td>\n",
       "      <td>Test group experiment</td>\n",
       "      <td>29.10.2020</td>\n",
       "      <td>Participant0001</td>\n",
       "      <td>Recording1</td>\n",
       "      <td>24.09.2020</td>\n",
       "      <td>24.09.2020</td>\n",
       "      <td>...</td>\n",
       "      <td>649.0</td>\n",
       "      <td>Fixation</td>\n",
       "      <td>117.0</td>\n",
       "      <td>64.0</td>\n",
       "      <td>971.0</td>\n",
       "      <td>341.0</td>\n",
       "      <td>0,5073</td>\n",
       "      <td>0,3160</td>\n",
       "      <td>NaN</td>\n",
       "      <td>NaN</td>\n",
       "    </tr>\n",
       "    <tr>\n",
       "      <th>3</th>\n",
       "      <td>3085.0</td>\n",
       "      <td>23434449</td>\n",
       "      <td>512107520</td>\n",
       "      <td>Eye Tracker</td>\n",
       "      <td>Test group experiment</td>\n",
       "      <td>29.10.2020</td>\n",
       "      <td>Participant0001</td>\n",
       "      <td>Recording1</td>\n",
       "      <td>24.09.2020</td>\n",
       "      <td>24.09.2020</td>\n",
       "      <td>...</td>\n",
       "      <td>649.0</td>\n",
       "      <td>Fixation</td>\n",
       "      <td>117.0</td>\n",
       "      <td>64.0</td>\n",
       "      <td>971.0</td>\n",
       "      <td>341.0</td>\n",
       "      <td>0,5073</td>\n",
       "      <td>0,3160</td>\n",
       "      <td>NaN</td>\n",
       "      <td>NaN</td>\n",
       "    </tr>\n",
       "    <tr>\n",
       "      <th>4</th>\n",
       "      <td>3086.0</td>\n",
       "      <td>23442782</td>\n",
       "      <td>512115853</td>\n",
       "      <td>Eye Tracker</td>\n",
       "      <td>Test group experiment</td>\n",
       "      <td>29.10.2020</td>\n",
       "      <td>Participant0001</td>\n",
       "      <td>Recording1</td>\n",
       "      <td>24.09.2020</td>\n",
       "      <td>24.09.2020</td>\n",
       "      <td>...</td>\n",
       "      <td>649.0</td>\n",
       "      <td>Fixation</td>\n",
       "      <td>117.0</td>\n",
       "      <td>64.0</td>\n",
       "      <td>971.0</td>\n",
       "      <td>341.0</td>\n",
       "      <td>0,5073</td>\n",
       "      <td>0,3160</td>\n",
       "      <td>NaN</td>\n",
       "      <td>NaN</td>\n",
       "    </tr>\n",
       "  </tbody>\n",
       "</table>\n",
       "<p>5 rows × 71 columns</p>\n",
       "</div>\n",
       "      <button class=\"colab-df-convert\" onclick=\"convertToInteractive('df-aa3153ac-f6af-4baa-9a1e-d47f848cb48e')\"\n",
       "              title=\"Convert this dataframe to an interactive table.\"\n",
       "              style=\"display:none;\">\n",
       "        \n",
       "  <svg xmlns=\"http://www.w3.org/2000/svg\" height=\"24px\"viewBox=\"0 0 24 24\"\n",
       "       width=\"24px\">\n",
       "    <path d=\"M0 0h24v24H0V0z\" fill=\"none\"/>\n",
       "    <path d=\"M18.56 5.44l.94 2.06.94-2.06 2.06-.94-2.06-.94-.94-2.06-.94 2.06-2.06.94zm-11 1L8.5 8.5l.94-2.06 2.06-.94-2.06-.94L8.5 2.5l-.94 2.06-2.06.94zm10 10l.94 2.06.94-2.06 2.06-.94-2.06-.94-.94-2.06-.94 2.06-2.06.94z\"/><path d=\"M17.41 7.96l-1.37-1.37c-.4-.4-.92-.59-1.43-.59-.52 0-1.04.2-1.43.59L10.3 9.45l-7.72 7.72c-.78.78-.78 2.05 0 2.83L4 21.41c.39.39.9.59 1.41.59.51 0 1.02-.2 1.41-.59l7.78-7.78 2.81-2.81c.8-.78.8-2.07 0-2.86zM5.41 20L4 18.59l7.72-7.72 1.47 1.35L5.41 20z\"/>\n",
       "  </svg>\n",
       "      </button>\n",
       "      \n",
       "  <style>\n",
       "    .colab-df-container {\n",
       "      display:flex;\n",
       "      flex-wrap:wrap;\n",
       "      gap: 12px;\n",
       "    }\n",
       "\n",
       "    .colab-df-convert {\n",
       "      background-color: #E8F0FE;\n",
       "      border: none;\n",
       "      border-radius: 50%;\n",
       "      cursor: pointer;\n",
       "      display: none;\n",
       "      fill: #1967D2;\n",
       "      height: 32px;\n",
       "      padding: 0 0 0 0;\n",
       "      width: 32px;\n",
       "    }\n",
       "\n",
       "    .colab-df-convert:hover {\n",
       "      background-color: #E2EBFA;\n",
       "      box-shadow: 0px 1px 2px rgba(60, 64, 67, 0.3), 0px 1px 3px 1px rgba(60, 64, 67, 0.15);\n",
       "      fill: #174EA6;\n",
       "    }\n",
       "\n",
       "    [theme=dark] .colab-df-convert {\n",
       "      background-color: #3B4455;\n",
       "      fill: #D2E3FC;\n",
       "    }\n",
       "\n",
       "    [theme=dark] .colab-df-convert:hover {\n",
       "      background-color: #434B5C;\n",
       "      box-shadow: 0px 1px 3px 1px rgba(0, 0, 0, 0.15);\n",
       "      filter: drop-shadow(0px 1px 2px rgba(0, 0, 0, 0.3));\n",
       "      fill: #FFFFFF;\n",
       "    }\n",
       "  </style>\n",
       "\n",
       "      <script>\n",
       "        const buttonEl =\n",
       "          document.querySelector('#df-aa3153ac-f6af-4baa-9a1e-d47f848cb48e button.colab-df-convert');\n",
       "        buttonEl.style.display =\n",
       "          google.colab.kernel.accessAllowed ? 'block' : 'none';\n",
       "\n",
       "        async function convertToInteractive(key) {\n",
       "          const element = document.querySelector('#df-aa3153ac-f6af-4baa-9a1e-d47f848cb48e');\n",
       "          const dataTable =\n",
       "            await google.colab.kernel.invokeFunction('convertToInteractive',\n",
       "                                                     [key], {});\n",
       "          if (!dataTable) return;\n",
       "\n",
       "          const docLinkHtml = 'Like what you see? Visit the ' +\n",
       "            '<a target=\"_blank\" href=https://colab.research.google.com/notebooks/data_table.ipynb>data table notebook</a>'\n",
       "            + ' to learn more about interactive tables.';\n",
       "          element.innerHTML = '';\n",
       "          dataTable['output_type'] = 'display_data';\n",
       "          await google.colab.output.renderOutput(dataTable, element);\n",
       "          const docLink = document.createElement('div');\n",
       "          docLink.innerHTML = docLinkHtml;\n",
       "          element.appendChild(docLink);\n",
       "        }\n",
       "      </script>\n",
       "    </div>\n",
       "  </div>\n",
       "  "
      ],
      "text/plain": [
       "  Unnamed: 0 Recording timestamp Computer timestamp       Sensor  \\\n",
       "0     3082.0            23419315          512092386          NaN   \n",
       "1     3083.0            23419315          512092386          NaN   \n",
       "2     3084.0            23426120          512099191  Eye Tracker   \n",
       "3     3085.0            23434449          512107520  Eye Tracker   \n",
       "4     3086.0            23442782          512115853  Eye Tracker   \n",
       "\n",
       "            Project name Export date Participant name Recording name  \\\n",
       "0  Test group experiment  29.10.2020  Participant0001     Recording1   \n",
       "1  Test group experiment  29.10.2020  Participant0001     Recording1   \n",
       "2  Test group experiment  29.10.2020  Participant0001     Recording1   \n",
       "3  Test group experiment  29.10.2020  Participant0001     Recording1   \n",
       "4  Test group experiment  29.10.2020  Participant0001     Recording1   \n",
       "\n",
       "  Recording date Recording date UTC  ... Original Media height  \\\n",
       "0     24.09.2020         24.09.2020  ...                   NaN   \n",
       "1     24.09.2020         24.09.2020  ...                   NaN   \n",
       "2     24.09.2020         24.09.2020  ...                 649.0   \n",
       "3     24.09.2020         24.09.2020  ...                 649.0   \n",
       "4     24.09.2020         24.09.2020  ...                 649.0   \n",
       "\n",
       "  Eye movement type Gaze event duration Eye movement type index  \\\n",
       "0          Fixation               117.0                    64.0   \n",
       "1          Fixation               117.0                    64.0   \n",
       "2          Fixation               117.0                    64.0   \n",
       "3          Fixation               117.0                    64.0   \n",
       "4          Fixation               117.0                    64.0   \n",
       "\n",
       "  Fixation point X Fixation point Y Fixation point X (MCSnorm)  \\\n",
       "0            971.0            341.0                     0,5073   \n",
       "1            971.0            341.0                     0,5073   \n",
       "2            971.0            341.0                     0,5073   \n",
       "3            971.0            341.0                     0,5073   \n",
       "4            971.0            341.0                     0,5073   \n",
       "\n",
       "  Fixation point Y (MCSnorm) Mouse position X Mouse position Y  \n",
       "0                     0,3160              NaN              NaN  \n",
       "1                     0,3160              NaN              NaN  \n",
       "2                     0,3160              NaN              NaN  \n",
       "3                     0,3160              NaN              NaN  \n",
       "4                     0,3160              NaN              NaN  \n",
       "\n",
       "[5 rows x 71 columns]"
      ]
     },
     "execution_count": 5,
     "metadata": {},
     "output_type": "execute_result"
    }
   ],
   "source": [
    "df.head()"
   ]
  },
  {
   "cell_type": "code",
   "execution_count": 6,
   "metadata": {
    "id": "s1w7t2ylMfMr"
   },
   "outputs": [],
   "source": [
    "# Drop columns that are irrelevant or too sparse \n",
    "columns_to_drop = ['Sensor', 'Recording timestamp', 'Computer timestamp', 'Export date',\n",
    "                   'Recording name', 'Recording date', 'Timeline name', 'Recording Fixation filter name', \n",
    "                   'Mouse position X', 'Mouse position Y', 'Recording software version', 'Event', 'Event value', \n",
    "                   'Project name', 'Presented Media name', 'Presented Stimulus name', 'Unnamed: 0', 'Eyetracker timestamp', \n",
    "                   'Recording start time UTC', 'Recording date UTC', 'Project name', 'Gaze point X (MCSnorm)', \n",
    "                   'Gaze point Y (MCSnorm)', 'Gaze point left X (MCSnorm)', 'Gaze point left Y (MCSnorm)', \n",
    "                   'Gaze point right X (MCSnorm)', 'Gaze point right Y (MCSnorm)', 'Fixation point X', 'Fixation point Y', \n",
    "                   'Fixation point X (MCSnorm)', 'Fixation point Y (MCSnorm)']\n",
    "\n",
    "df.drop(columns_to_drop, axis=1, inplace=True)\n"
   ]
  },
  {
   "cell_type": "code",
   "execution_count": 7,
   "metadata": {
    "id": "mapjAatCMqhK"
   },
   "outputs": [],
   "source": [
    "# Drop rows with null values in 'Pupil diameter left' and 'Pupil diameter right' as they are the main features to be used. \n",
    "df = df.dropna(subset=['Pupil diameter left', 'Pupil diameter right'])\n",
    "\n",
    "\n",
    "# Drop rows where 'Participant name' is 'Participant name'\n",
    "df = df[df['Participant name'] != 'Participant name']\n",
    "\n",
    "# Extract participant number from 'Participant name' column\n",
    "df['id'] = df['Participant name'].apply(lambda x: int(x[-2:]) if isinstance(x, str) else 'NaN')\n",
    "df.drop('Participant name', axis= 1, inplace = True)"
   ]
  },
  {
   "cell_type": "code",
   "execution_count": 8,
   "metadata": {
    "colab": {
     "base_uri": "https://localhost:8080/"
    },
    "id": "cVr-rul7ROrh",
    "outputId": "f3d0b226-1023-4053-bcb4-215dbdb8c157"
   },
   "outputs": [
    {
     "data": {
      "text/plain": [
       "Fixation        519983\n",
       "Saccade         182388\n",
       "Unclassified     99477\n",
       "Name: Eye movement type, dtype: int64"
      ]
     },
     "execution_count": 8,
     "metadata": {},
     "output_type": "execute_result"
    }
   ],
   "source": [
    "df['Eye movement type'].value_counts()"
   ]
  },
  {
   "cell_type": "code",
   "execution_count": 9,
   "metadata": {
    "colab": {
     "base_uri": "https://localhost:8080/",
     "height": 699
    },
    "id": "fXQSdYxfMvdR",
    "outputId": "fcc69d31-2c1c-4cb1-b7d1-16c49dca146b"
   },
   "outputs": [
    {
     "data": {
      "text/plain": [
       "<Axes: >"
      ]
     },
     "execution_count": 9,
     "metadata": {},
     "output_type": "execute_result"
    },
    {
     "data": {
      "image/png": "[encoded data removed]",
      "text/plain": [
       "<Figure size 640x480 with 1 Axes>"
      ]
     },
     "metadata": {},
     "output_type": "display_data"
    }
   ],
   "source": [
    "# Manual label encoding of 'Eye movement type' column\n",
    "eye_movement_dict = {'Fixation': 0, 'Saccade': 1, 'Unclassified': 2, 'EyesNotFound': 3}\n",
    "df['Eye movement type'] = df['Eye movement type'].map(eye_movement_dict)\n",
    "\n",
    "# Visualize sparsity of remaining features\n",
    "sns.heatmap(df.isnull(), cbar=False)"
   ]
  },
  {
   "cell_type": "code",
   "execution_count": 10,
   "metadata": {
    "id": "zPNIRvL0NnHg"
   },
   "outputs": [],
   "source": [
    "#mapping empathy scores from the questionnaire dataset\n",
    "score_dic = dict(zip(quest_df['Participant nr'], quest_df['Total Score original']))\n",
    "df['Empathy scores'] = [score_dic.get(i) for  i in df.id]"
   ]
  },
  {
   "cell_type": "code",
   "execution_count": 11,
   "metadata": {
    "colab": {
     "base_uri": "https://localhost:8080/"
    },
    "id": "CXwP2-8bU5aD",
    "outputId": "b81377f4-403b-4c27-c6d6-5156477fe550"
   },
   "outputs": [
    {
     "data": {
      "text/plain": [
       "81     141200\n",
       "108    141156\n",
       "106     95093\n",
       "87      73632\n",
       "100     56843\n",
       "90      47273\n",
       "79      29544\n",
       "109     26197\n",
       "111     25325\n",
       "107     25241\n",
       "103     24953\n",
       "94      22069\n",
       "96      16416\n",
       "83      15734\n",
       "92      15083\n",
       "104     14310\n",
       "86      12269\n",
       "97       9737\n",
       "75       6504\n",
       "101      1606\n",
       "99       1425\n",
       "80        238\n",
       "Name: Empathy scores, dtype: int64"
      ]
     },
     "execution_count": 11,
     "metadata": {},
     "output_type": "execute_result"
    }
   ],
   "source": [
    "df['Empathy scores'].value_counts()"
   ]
  },
  {
   "cell_type": "code",
   "execution_count": 12,
   "metadata": {
    "id": "dDvrcm-fXvA-"
   },
   "outputs": [],
   "source": [
    "#the DACSmm features are all in coordinate format and will be dropped "
   ]
  },
  {
   "cell_type": "code",
   "execution_count": 13,
   "metadata": {
    "colab": {
     "base_uri": "https://localhost:8080/"
    },
    "id": "6FAW3sA2Ww4B",
    "outputId": "4f3dd322-8e1d-4854-9230-82cc79fc152a"
   },
   "outputs": [
    {
     "data": {
      "text/plain": [
       "4     76,9\n",
       "7     76,9\n",
       "10    76,9\n",
       "13    76,9\n",
       "16    76,8\n",
       "19    76,9\n",
       "Name: Eye position left Y (DACSmm), dtype: object"
      ]
     },
     "execution_count": 13,
     "metadata": {},
     "output_type": "execute_result"
    }
   ],
   "source": [
    "df['Eye position left Y (DACSmm)'][0:6]"
   ]
  },
  {
   "cell_type": "code",
   "execution_count": 14,
   "metadata": {
    "id": "ewaaGxqqYAHB"
   },
   "outputs": [],
   "source": [
    "df.drop(['Eye position left Y (DACSmm)', 'Eye position left Z (DACSmm)',\n",
    "       'Eye position right X (DACSmm)', 'Eye position right Y (DACSmm)',\n",
    "       'Eye position right Z (DACSmm)', 'Gaze point left X (DACSmm)',\n",
    "       'Gaze point left Y (DACSmm)', 'Gaze point right X (DACSmm)',\n",
    "       'Gaze point right Y (DACSmm)','Eye position left X (DACSmm)'], inplace = True, axis = 1)"
   ]
  },
  {
   "cell_type": "code",
   "execution_count": 15,
   "metadata": {
    "colab": {
     "base_uri": "https://localhost:8080/",
     "height": 36
    },
    "id": "pwjz5K_Gc3P7",
    "outputId": "5b26364c-afad-43c6-8e0a-72e948ec5f64"
   },
   "outputs": [
    {
     "data": {
      "application/vnd.google.colaboratory.intrinsic+json": {
       "type": "string"
      },
      "text/plain": [
       "'-0,99980'"
      ]
     },
     "execution_count": 15,
     "metadata": {},
     "output_type": "execute_result"
    }
   ],
   "source": [
    "df['Gaze direction right Z'][10]"
   ]
  },
  {
   "cell_type": "code",
   "execution_count": 16,
   "metadata": {
    "id": "JDGbREJ-drhx"
   },
   "outputs": [],
   "source": [
    "#the gaze directions also are coordinates, "
   ]
  },
  {
   "cell_type": "code",
   "execution_count": 17,
   "metadata": {
    "id": "l6kJn8FBddLI"
   },
   "outputs": [],
   "source": [
    "df.drop(['Gaze direction left X', 'Gaze direction left Y',\n",
    "       'Gaze direction left Z', 'Gaze direction right X',\n",
    "       'Gaze direction right Y', 'Gaze direction right Z'], axis = 1, inplace = True)"
   ]
  },
  {
   "cell_type": "code",
   "execution_count": 18,
   "metadata": {
    "id": "V7UMzbAsS3mu"
   },
   "outputs": [],
   "source": [
    "#dropping columns not needed or having repeated data\n",
    "df.drop(['Recording start time','Recording resolution height', 'Recording resolution width',\n",
    "       'Recording monitor latency','Presented Media width',\n",
    "       'Presented Media height','Gaze event duration'], axis = 1, inplace = True)\n"
   ]
  },
  {
   "cell_type": "code",
   "execution_count": 19,
   "metadata": {
    "colab": {
     "base_uri": "https://localhost:8080/",
     "height": 175
    },
    "id": "5d7uC0c_eygm",
    "outputId": "7e5f3a3d-8e80-4510-ea0d-629919132cf3"
   },
   "outputs": [
    {
     "data": {
      "text/html": [
       "\n",
       "  <div id=\"df-54714a20-e697-44a5-95c7-49e42c813ec6\">\n",
       "    <div class=\"colab-df-container\">\n",
       "      <div>\n",
       "<style scoped>\n",
       "    .dataframe tbody tr th:only-of-type {\n",
       "        vertical-align: middle;\n",
       "    }\n",
       "\n",
       "    .dataframe tbody tr th {\n",
       "        vertical-align: top;\n",
       "    }\n",
       "\n",
       "    .dataframe thead th {\n",
       "        text-align: right;\n",
       "    }\n",
       "</style>\n",
       "<table border=\"1\" class=\"dataframe\">\n",
       "  <thead>\n",
       "    <tr style=\"text-align: right;\">\n",
       "      <th></th>\n",
       "      <th>Validity left</th>\n",
       "      <th>Validity right</th>\n",
       "    </tr>\n",
       "  </thead>\n",
       "  <tbody>\n",
       "    <tr>\n",
       "      <th>count</th>\n",
       "      <td>801848</td>\n",
       "      <td>801848</td>\n",
       "    </tr>\n",
       "    <tr>\n",
       "      <th>unique</th>\n",
       "      <td>1</td>\n",
       "      <td>1</td>\n",
       "    </tr>\n",
       "    <tr>\n",
       "      <th>top</th>\n",
       "      <td>Valid</td>\n",
       "      <td>Valid</td>\n",
       "    </tr>\n",
       "    <tr>\n",
       "      <th>freq</th>\n",
       "      <td>801848</td>\n",
       "      <td>801848</td>\n",
       "    </tr>\n",
       "  </tbody>\n",
       "</table>\n",
       "</div>\n",
       "      <button class=\"colab-df-convert\" onclick=\"convertToInteractive('df-54714a20-e697-44a5-95c7-49e42c813ec6')\"\n",
       "              title=\"Convert this dataframe to an interactive table.\"\n",
       "              style=\"display:none;\">\n",
       "        \n",
       "  <svg xmlns=\"http://www.w3.org/2000/svg\" height=\"24px\"viewBox=\"0 0 24 24\"\n",
       "       width=\"24px\">\n",
       "    <path d=\"M0 0h24v24H0V0z\" fill=\"none\"/>\n",
       "    <path d=\"M18.56 5.44l.94 2.06.94-2.06 2.06-.94-2.06-.94-.94-2.06-.94 2.06-2.06.94zm-11 1L8.5 8.5l.94-2.06 2.06-.94-2.06-.94L8.5 2.5l-.94 2.06-2.06.94zm10 10l.94 2.06.94-2.06 2.06-.94-2.06-.94-.94-2.06-.94 2.06-2.06.94z\"/><path d=\"M17.41 7.96l-1.37-1.37c-.4-.4-.92-.59-1.43-.59-.52 0-1.04.2-1.43.59L10.3 9.45l-7.72 7.72c-.78.78-.78 2.05 0 2.83L4 21.41c.39.39.9.59 1.41.59.51 0 1.02-.2 1.41-.59l7.78-7.78 2.81-2.81c.8-.78.8-2.07 0-2.86zM5.41 20L4 18.59l7.72-7.72 1.47 1.35L5.41 20z\"/>\n",
       "  </svg>\n",
       "      </button>\n",
       "      \n",
       "  <style>\n",
       "    .colab-df-container {\n",
       "      display:flex;\n",
       "      flex-wrap:wrap;\n",
       "      gap: 12px;\n",
       "    }\n",
       "\n",
       "    .colab-df-convert {\n",
       "      background-color: #E8F0FE;\n",
       "      border: none;\n",
       "      border-radius: 50%;\n",
       "      cursor: pointer;\n",
       "      display: none;\n",
       "      fill: #1967D2;\n",
       "      height: 32px;\n",
       "      padding: 0 0 0 0;\n",
       "      width: 32px;\n",
       "    }\n",
       "\n",
       "    .colab-df-convert:hover {\n",
       "      background-color: #E2EBFA;\n",
       "      box-shadow: 0px 1px 2px rgba(60, 64, 67, 0.3), 0px 1px 3px 1px rgba(60, 64, 67, 0.15);\n",
       "      fill: #174EA6;\n",
       "    }\n",
       "\n",
       "    [theme=dark] .colab-df-convert {\n",
       "      background-color: #3B4455;\n",
       "      fill: #D2E3FC;\n",
       "    }\n",
       "\n",
       "    [theme=dark] .colab-df-convert:hover {\n",
       "      background-color: #434B5C;\n",
       "      box-shadow: 0px 1px 3px 1px rgba(0, 0, 0, 0.15);\n",
       "      filter: drop-shadow(0px 1px 2px rgba(0, 0, 0, 0.3));\n",
       "      fill: #FFFFFF;\n",
       "    }\n",
       "  </style>\n",
       "\n",
       "      <script>\n",
       "        const buttonEl =\n",
       "          document.querySelector('#df-54714a20-e697-44a5-95c7-49e42c813ec6 button.colab-df-convert');\n",
       "        buttonEl.style.display =\n",
       "          google.colab.kernel.accessAllowed ? 'block' : 'none';\n",
       "\n",
       "        async function convertToInteractive(key) {\n",
       "          const element = document.querySelector('#df-54714a20-e697-44a5-95c7-49e42c813ec6');\n",
       "          const dataTable =\n",
       "            await google.colab.kernel.invokeFunction('convertToInteractive',\n",
       "                                                     [key], {});\n",
       "          if (!dataTable) return;\n",
       "\n",
       "          const docLinkHtml = 'Like what you see? Visit the ' +\n",
       "            '<a target=\"_blank\" href=https://colab.research.google.com/notebooks/data_table.ipynb>data table notebook</a>'\n",
       "            + ' to learn more about interactive tables.';\n",
       "          element.innerHTML = '';\n",
       "          dataTable['output_type'] = 'display_data';\n",
       "          await google.colab.output.renderOutput(dataTable, element);\n",
       "          const docLink = document.createElement('div');\n",
       "          docLink.innerHTML = docLinkHtml;\n",
       "          element.appendChild(docLink);\n",
       "        }\n",
       "      </script>\n",
       "    </div>\n",
       "  </div>\n",
       "  "
      ],
      "text/plain": [
       "       Validity left Validity right\n",
       "count         801848         801848\n",
       "unique             1              1\n",
       "top            Valid          Valid\n",
       "freq          801848         801848"
      ]
     },
     "execution_count": 19,
     "metadata": {},
     "output_type": "execute_result"
    }
   ],
   "source": [
    "df[['Validity left', 'Validity right']].describe()"
   ]
  },
  {
   "cell_type": "code",
   "execution_count": 20,
   "metadata": {
    "id": "r766AxS2fBit"
   },
   "outputs": [],
   "source": [
    "df.drop(['Validity left', 'Validity right'], inplace = True,axis = 1)"
   ]
  },
  {
   "cell_type": "code",
   "execution_count": 21,
   "metadata": {
    "colab": {
     "base_uri": "https://localhost:8080/"
    },
    "id": "hROeGbx6fLjX",
    "outputId": "47c1b589-e30f-4de4-d417-437254833919"
   },
   "outputs": [
    {
     "data": {
      "text/plain": [
       "214.0    548441\n",
       "214.0    253399\n",
       "Name: Presented Media position X (DACSpx), dtype: int64"
      ]
     },
     "execution_count": 21,
     "metadata": {},
     "output_type": "execute_result"
    }
   ],
   "source": [
    "df['Presented Media position X (DACSpx)'].value_counts()"
   ]
  },
  {
   "cell_type": "code",
   "execution_count": 22,
   "metadata": {
    "id": "VCFIxDeEfg8d"
   },
   "outputs": [],
   "source": [
    "#same values throughout\n",
    "df.drop(['Presented Media position Y (DACSpx)','Presented Media position X (DACSpx)'], inplace = True,axis = 1)"
   ]
  },
  {
   "cell_type": "code",
   "execution_count": 23,
   "metadata": {
    "colab": {
     "base_uri": "https://localhost:8080/"
    },
    "id": "kz8qZuGIgJA9",
    "outputId": "74b47f9b-50a2-4dba-f768-3b601439ca32"
   },
   "outputs": [
    {
     "data": {
      "text/plain": [
       "4          3,21\n",
       "7          3,15\n",
       "10         3,13\n",
       "13         3,27\n",
       "16         3,29\n",
       "           ... \n",
       "3777079    3,34\n",
       "3777082    3,06\n",
       "3777087    3,35\n",
       "3777093    3,29\n",
       "3777096    3,30\n",
       "Name: Pupil diameter left, Length: 801848, dtype: object"
      ]
     },
     "execution_count": 23,
     "metadata": {},
     "output_type": "execute_result"
    }
   ],
   "source": [
    "df['Pupil diameter left']"
   ]
  },
  {
   "cell_type": "code",
   "execution_count": 24,
   "metadata": {
    "id": "1sLmt7rmgO6C"
   },
   "outputs": [],
   "source": [
    "#this feature is said to be the diameter of the pupils in millimeter. The ',' will be replaced with '.'\n",
    "def rep_(num):\n",
    "  num_ = float(num.replace(',', '.'))\n",
    "  return num_\n",
    "\n",
    "df['Pupil diameter left'] = df['Pupil diameter left'].apply(rep_)\n",
    "df['Pupil diameter right'] = df['Pupil diameter right'].apply(rep_)"
   ]
  },
  {
   "cell_type": "code",
   "execution_count": 25,
   "metadata": {
    "colab": {
     "base_uri": "https://localhost:8080/",
     "height": 285
    },
    "id": "_GQV5avciIie",
    "outputId": "7beaf193-17ed-4837-a65b-6868ae831c01"
   },
   "outputs": [
    {
     "data": {
      "text/html": [
       "\n",
       "  <div id=\"df-51f97ae3-dd17-4f88-a7d0-40015cd6fa4f\">\n",
       "    <div class=\"colab-df-container\">\n",
       "      <div>\n",
       "<style scoped>\n",
       "    .dataframe tbody tr th:only-of-type {\n",
       "        vertical-align: middle;\n",
       "    }\n",
       "\n",
       "    .dataframe tbody tr th {\n",
       "        vertical-align: top;\n",
       "    }\n",
       "\n",
       "    .dataframe thead th {\n",
       "        text-align: right;\n",
       "    }\n",
       "</style>\n",
       "<table border=\"1\" class=\"dataframe\">\n",
       "  <thead>\n",
       "    <tr style=\"text-align: right;\">\n",
       "      <th></th>\n",
       "      <th>Recording duration</th>\n",
       "      <th>Gaze point X</th>\n",
       "      <th>Gaze point Y</th>\n",
       "      <th>Gaze point left X</th>\n",
       "      <th>Gaze point left Y</th>\n",
       "      <th>Gaze point right X</th>\n",
       "      <th>Gaze point right Y</th>\n",
       "      <th>Pupil diameter left</th>\n",
       "      <th>Pupil diameter right</th>\n",
       "      <th>Original Media width</th>\n",
       "      <th>Original Media height</th>\n",
       "      <th>Eye movement type</th>\n",
       "      <th>Eye movement type index</th>\n",
       "      <th>id</th>\n",
       "      <th>Empathy scores</th>\n",
       "    </tr>\n",
       "  </thead>\n",
       "  <tbody>\n",
       "    <tr>\n",
       "      <th>4</th>\n",
       "      <td>83579</td>\n",
       "      <td>962.0</td>\n",
       "      <td>346.0</td>\n",
       "      <td>912.0</td>\n",
       "      <td>292.0</td>\n",
       "      <td>1012.0</td>\n",
       "      <td>400.0</td>\n",
       "      <td>3.21</td>\n",
       "      <td>3.14</td>\n",
       "      <td>897.0</td>\n",
       "      <td>649.0</td>\n",
       "      <td>0</td>\n",
       "      <td>64.0</td>\n",
       "      <td>1</td>\n",
       "      <td>108</td>\n",
       "    </tr>\n",
       "    <tr>\n",
       "      <th>7</th>\n",
       "      <td>83579</td>\n",
       "      <td>977.0</td>\n",
       "      <td>332.0</td>\n",
       "      <td>922.0</td>\n",
       "      <td>292.0</td>\n",
       "      <td>1032.0</td>\n",
       "      <td>371.0</td>\n",
       "      <td>3.15</td>\n",
       "      <td>3.31</td>\n",
       "      <td>897.0</td>\n",
       "      <td>649.0</td>\n",
       "      <td>0</td>\n",
       "      <td>64.0</td>\n",
       "      <td>1</td>\n",
       "      <td>108</td>\n",
       "    </tr>\n",
       "    <tr>\n",
       "      <th>10</th>\n",
       "      <td>83579</td>\n",
       "      <td>975.0</td>\n",
       "      <td>341.0</td>\n",
       "      <td>927.0</td>\n",
       "      <td>429.0</td>\n",
       "      <td>1023.0</td>\n",
       "      <td>253.0</td>\n",
       "      <td>3.13</td>\n",
       "      <td>3.19</td>\n",
       "      <td>897.0</td>\n",
       "      <td>649.0</td>\n",
       "      <td>0</td>\n",
       "      <td>64.0</td>\n",
       "      <td>1</td>\n",
       "      <td>108</td>\n",
       "    </tr>\n",
       "    <tr>\n",
       "      <th>13</th>\n",
       "      <td>83579</td>\n",
       "      <td>990.0</td>\n",
       "      <td>301.0</td>\n",
       "      <td>941.0</td>\n",
       "      <td>358.0</td>\n",
       "      <td>1039.0</td>\n",
       "      <td>243.0</td>\n",
       "      <td>3.27</td>\n",
       "      <td>3.33</td>\n",
       "      <td>897.0</td>\n",
       "      <td>649.0</td>\n",
       "      <td>2</td>\n",
       "      <td>187.0</td>\n",
       "      <td>1</td>\n",
       "      <td>108</td>\n",
       "    </tr>\n",
       "    <tr>\n",
       "      <th>16</th>\n",
       "      <td>83579</td>\n",
       "      <td>981.0</td>\n",
       "      <td>365.0</td>\n",
       "      <td>955.0</td>\n",
       "      <td>407.0</td>\n",
       "      <td>1006.0</td>\n",
       "      <td>324.0</td>\n",
       "      <td>3.29</td>\n",
       "      <td>3.18</td>\n",
       "      <td>897.0</td>\n",
       "      <td>649.0</td>\n",
       "      <td>2</td>\n",
       "      <td>188.0</td>\n",
       "      <td>1</td>\n",
       "      <td>108</td>\n",
       "    </tr>\n",
       "  </tbody>\n",
       "</table>\n",
       "</div>\n",
       "      <button class=\"colab-df-convert\" onclick=\"convertToInteractive('df-51f97ae3-dd17-4f88-a7d0-40015cd6fa4f')\"\n",
       "              title=\"Convert this dataframe to an interactive table.\"\n",
       "              style=\"display:none;\">\n",
       "        \n",
       "  <svg xmlns=\"http://www.w3.org/2000/svg\" height=\"24px\"viewBox=\"0 0 24 24\"\n",
       "       width=\"24px\">\n",
       "    <path d=\"M0 0h24v24H0V0z\" fill=\"none\"/>\n",
       "    <path d=\"M18.56 5.44l.94 2.06.94-2.06 2.06-.94-2.06-.94-.94-2.06-.94 2.06-2.06.94zm-11 1L8.5 8.5l.94-2.06 2.06-.94-2.06-.94L8.5 2.5l-.94 2.06-2.06.94zm10 10l.94 2.06.94-2.06 2.06-.94-2.06-.94-.94-2.06-.94 2.06-2.06.94z\"/><path d=\"M17.41 7.96l-1.37-1.37c-.4-.4-.92-.59-1.43-.59-.52 0-1.04.2-1.43.59L10.3 9.45l-7.72 7.72c-.78.78-.78 2.05 0 2.83L4 21.41c.39.39.9.59 1.41.59.51 0 1.02-.2 1.41-.59l7.78-7.78 2.81-2.81c.8-.78.8-2.07 0-2.86zM5.41 20L4 18.59l7.72-7.72 1.47 1.35L5.41 20z\"/>\n",
       "  </svg>\n",
       "      </button>\n",
       "      \n",
       "  <style>\n",
       "    .colab-df-container {\n",
       "      display:flex;\n",
       "      flex-wrap:wrap;\n",
       "      gap: 12px;\n",
       "    }\n",
       "\n",
       "    .colab-df-convert {\n",
       "      background-color: #E8F0FE;\n",
       "      border: none;\n",
       "      border-radius: 50%;\n",
       "      cursor: pointer;\n",
       "      display: none;\n",
       "      fill: #1967D2;\n",
       "      height: 32px;\n",
       "      padding: 0 0 0 0;\n",
       "      width: 32px;\n",
       "    }\n",
       "\n",
       "    .colab-df-convert:hover {\n",
       "      background-color: #E2EBFA;\n",
       "      box-shadow: 0px 1px 2px rgba(60, 64, 67, 0.3), 0px 1px 3px 1px rgba(60, 64, 67, 0.15);\n",
       "      fill: #174EA6;\n",
       "    }\n",
       "\n",
       "    [theme=dark] .colab-df-convert {\n",
       "      background-color: #3B4455;\n",
       "      fill: #D2E3FC;\n",
       "    }\n",
       "\n",
       "    [theme=dark] .colab-df-convert:hover {\n",
       "      background-color: #434B5C;\n",
       "      box-shadow: 0px 1px 3px 1px rgba(0, 0, 0, 0.15);\n",
       "      filter: drop-shadow(0px 1px 2px rgba(0, 0, 0, 0.3));\n",
       "      fill: #FFFFFF;\n",
       "    }\n",
       "  </style>\n",
       "\n",
       "      <script>\n",
       "        const buttonEl =\n",
       "          document.querySelector('#df-51f97ae3-dd17-4f88-a7d0-40015cd6fa4f button.colab-df-convert');\n",
       "        buttonEl.style.display =\n",
       "          google.colab.kernel.accessAllowed ? 'block' : 'none';\n",
       "\n",
       "        async function convertToInteractive(key) {\n",
       "          const element = document.querySelector('#df-51f97ae3-dd17-4f88-a7d0-40015cd6fa4f');\n",
       "          const dataTable =\n",
       "            await google.colab.kernel.invokeFunction('convertToInteractive',\n",
       "                                                     [key], {});\n",
       "          if (!dataTable) return;\n",
       "\n",
       "          const docLinkHtml = 'Like what you see? Visit the ' +\n",
       "            '<a target=\"_blank\" href=https://colab.research.google.com/notebooks/data_table.ipynb>data table notebook</a>'\n",
       "            + ' to learn more about interactive tables.';\n",
       "          element.innerHTML = '';\n",
       "          dataTable['output_type'] = 'display_data';\n",
       "          await google.colab.output.renderOutput(dataTable, element);\n",
       "          const docLink = document.createElement('div');\n",
       "          docLink.innerHTML = docLinkHtml;\n",
       "          element.appendChild(docLink);\n",
       "        }\n",
       "      </script>\n",
       "    </div>\n",
       "  </div>\n",
       "  "
      ],
      "text/plain": [
       "   Recording duration Gaze point X Gaze point Y Gaze point left X  \\\n",
       "4               83579        962.0        346.0             912.0   \n",
       "7               83579        977.0        332.0             922.0   \n",
       "10              83579        975.0        341.0             927.0   \n",
       "13              83579        990.0        301.0             941.0   \n",
       "16              83579        981.0        365.0             955.0   \n",
       "\n",
       "   Gaze point left Y Gaze point right X Gaze point right Y  \\\n",
       "4              292.0             1012.0              400.0   \n",
       "7              292.0             1032.0              371.0   \n",
       "10             429.0             1023.0              253.0   \n",
       "13             358.0             1039.0              243.0   \n",
       "16             407.0             1006.0              324.0   \n",
       "\n",
       "    Pupil diameter left  Pupil diameter right Original Media width  \\\n",
       "4                  3.21                  3.14                897.0   \n",
       "7                  3.15                  3.31                897.0   \n",
       "10                 3.13                  3.19                897.0   \n",
       "13                 3.27                  3.33                897.0   \n",
       "16                 3.29                  3.18                897.0   \n",
       "\n",
       "   Original Media height  Eye movement type Eye movement type index  id  \\\n",
       "4                  649.0                  0                    64.0   1   \n",
       "7                  649.0                  0                    64.0   1   \n",
       "10                 649.0                  0                    64.0   1   \n",
       "13                 649.0                  2                   187.0   1   \n",
       "16                 649.0                  2                   188.0   1   \n",
       "\n",
       "    Empathy scores  \n",
       "4              108  \n",
       "7              108  \n",
       "10             108  \n",
       "13             108  \n",
       "16             108  "
      ]
     },
     "execution_count": 25,
     "metadata": {},
     "output_type": "execute_result"
    }
   ],
   "source": [
    "df.head()"
   ]
  },
  {
   "cell_type": "code",
   "execution_count": 26,
   "metadata": {
    "id": "976kIkNHiWyP"
   },
   "outputs": [],
   "source": [
    "df.dropna(inplace = True)"
   ]
  },
  {
   "cell_type": "code",
   "execution_count": 27,
   "metadata": {
    "id": "GWKKMlHsM-oR"
   },
   "outputs": [],
   "source": [
    "# Split the data into training and testing sets\n",
    "X = df.drop(['Empathy scores'], axis=1)\n",
    "y = df['Empathy scores']\n",
    "X_train, X_test, y_train, y_test = train_test_split(X, y, test_size=0.4, random_state=42)\n"
   ]
  },
  {
   "cell_type": "code",
   "execution_count": 28,
   "metadata": {
    "colab": {
     "base_uri": "https://localhost:8080/"
    },
    "id": "T5J-2LHXPZzq",
    "outputId": "b1dc883f-a0f2-484d-c6c5-229a4026f711"
   },
   "outputs": [
    {
     "data": {
      "text/plain": [
       "Index(['Recording duration', 'Gaze point X', 'Gaze point Y',\n",
       "       'Gaze point left X', 'Gaze point left Y', 'Gaze point right X',\n",
       "       'Gaze point right Y', 'Pupil diameter left', 'Pupil diameter right',\n",
       "       'Original Media width', 'Original Media height', 'Eye movement type',\n",
       "       'Eye movement type index', 'id'],\n",
       "      dtype='object')"
      ]
     },
     "execution_count": 28,
     "metadata": {},
     "output_type": "execute_result"
    }
   ],
   "source": [
    "X_train.columns"
   ]
  },
  {
   "cell_type": "code",
   "execution_count": 29,
   "metadata": {
    "colab": {
     "base_uri": "https://localhost:8080/"
    },
    "id": "DHbSXj-oNCKV",
    "outputId": "16ba8664-fb07-4a48-a11c-a481a515171e"
   },
   "outputs": [
    {
     "name": "stdout",
     "output_type": "stream",
     "text": [
      "Training Score: 0.9991830263300925\n",
      "MAE:  0.024048854301772584\n",
      "RMSE:  0.513809729259539\n",
      "Explained Variance Score: 0.9979062571413095\n"
     ]
    }
   ],
   "source": [
    "# Train and evaluate the Stochastic Gradient Descent Regressor\n",
    "# Creating a KNN model with k=3\n",
    "knn = KNeighborsRegressor(n_neighbors=3)\n",
    "# Train the model on the training data\n",
    "knn.fit(X_train, y_train)\n",
    "# Making predictions on the test data\n",
    "y_pred = knn.predict(X_test)\n",
    "# Evaluating the model \n",
    "print('Training Score:', knn.score(X_train,y_train))\n",
    "print('MAE: ', mean_absolute_error(y_test, y_pred))\n",
    "print('RMSE: ',mean_squared_error(y_test, y_pred, squared= False))\n",
    "print('Explained Variance Score:',explained_variance_score(y_test, y_pred))\n"
   ]
  },
  {
   "cell_type": "code",
   "execution_count": 30,
   "metadata": {
    "colab": {
     "base_uri": "https://localhost:8080/"
    },
    "id": "7j3YDafJjrU-",
    "outputId": "2767d365-8d60-4f76-c4de-178f317264e3"
   },
   "outputs": [
    {
     "name": "stdout",
     "output_type": "stream",
     "text": [
      "Training Score: 0.9991830263300925\n",
      "MAE:  0.024048854301772584\n",
      "RMSE:  0.513809729259539\n",
      "Explained Variance Score: 0.9979062571413095\n"
     ]
    }
   ],
   "source": [
    "# Evaluating the model \n",
    "print('Training Score:', knn.score(X_train,y_train))\n",
    "print('MAE: ', mean_absolute_error(y_test, y_pred))\n",
    "print('RMSE: ',mean_squared_error(y_test, y_pred, squared= False))\n",
    "print('Explained Variance Score:',explained_variance_score(y_test, y_pred))"
   ]
  },
  {
   "cell_type": "code",
   "execution_count": 31,
   "metadata": {
    "colab": {
     "base_uri": "https://localhost:8080/",
     "height": 472
    },
    "id": "ig7x-EIwkwwK",
    "outputId": "2861613c-9752-4b6e-8690-79b173c0f138"
   },
   "outputs": [
    {
     "data": {
      "image/png": "[encoded data removed]",
      "text/plain": [
       "<Figure size 640x480 with 1 Axes>"
      ]
     },
     "metadata": {},
     "output_type": "display_data"
    }
   ],
   "source": [
    "#creating a scatter plot\n",
    "plt.scatter(y_test,y_pred)\n",
    "#line of best fit\n",
    "plt.plot (np.unique (y_test), np.poly1d (np.polyfit (y_test,y_pred, 1))(np.unique (y_test)), color = 'green') \n",
    "plt.title('KNN model Prediction Accuracy')\n",
    "plt.xlabel('Original Empathy Scores')\n",
    "plt.ylabel('Predicted Empathy Scores')\n",
    "plt.show()"
   ]
  },
  {
   "cell_type": "code",
   "execution_count": 35,
   "metadata": {
    "colab": {
     "base_uri": "https://localhost:8080/"
    },
    "id": "NPcZHWGxLkuE",
    "outputId": "4b59ddf8-e999-414a-b2fb-0c151b104efb"
   },
   "outputs": [
    {
     "name": "stdout",
     "output_type": "stream",
     "text": [
      "Training Score: 0.32399208685378644\n",
      "MAE:  7.776819489138976\n",
      "RMSE:  9.22942705354254\n",
      "Explained Variance Score: 0.324415491140402\n"
     ]
    }
   ],
   "source": [
    "# Importing necessary libraries\n",
    "from sklearn.linear_model import SGDRegressor\n",
    "from sklearn.metrics import mean_absolute_error, mean_squared_error, explained_variance_score\n",
    "from sklearn.preprocessing import StandardScaler\n",
    "\n",
    "# Scaling the features using StandardScaler\n",
    "scaler = StandardScaler()\n",
    "X_train = scaler.fit_transform(X_train)\n",
    "X_test = scaler.transform(X_test)\n",
    "\n",
    "# Creating a Stochastic Gradient Descent Regressor\n",
    "sgd = SGDRegressor()\n",
    "\n",
    "# Training the model on the training data\n",
    "sgd.fit(X_train, y_train)\n",
    "\n",
    "# Making predictions on the test data\n",
    "y_pred = sgd.predict(X_test)\n",
    "\n",
    "# Evaluating the model\n",
    "print('Training Score:', sgd.score(X_train,y_train))\n",
    "print('MAE: ', mean_absolute_error(y_test, y_pred))\n",
    "print('RMSE: ',mean_squared_error(y_test, y_pred, squared= False))\n",
    "print('Explained Variance Score:',explained_variance_score(y_test, y_pred))\n"
   ]
  },
  {
   "cell_type": "code",
   "execution_count": null,
   "metadata": {
    "id": "MN8W_xhYUdcJ"
   },
   "outputs": [],
   "source": []
  }
 ],
 "metadata": {
  "colab": {
   "provenance": []
  },
  "kernelspec": {
   "display_name": "Python 3 (ipykernel)",
   "language": "python",
   "name": "python3"
  },
  "language_info": {
   "codemirror_mode": {
    "name": "ipython",
    "version": 3
   },
   "file_extension": ".py",
   "mimetype": "text/x-python",
   "name": "python",
   "nbconvert_exporter": "python",
   "pygments_lexer": "ipython3",
   "version": "3.9.13"
  }
 },
 "nbformat": 4,
 "nbformat_minor": 1
}
